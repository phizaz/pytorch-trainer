{
 "cells": [
  {
   "cell_type": "code",
   "execution_count": 1,
   "metadata": {},
   "outputs": [],
   "source": [
    "df = {}"
   ]
  },
  {
   "cell_type": "code",
   "execution_count": 2,
   "metadata": {},
   "outputs": [
    {
     "name": "stderr",
     "output_type": "stream",
     "text": [
      "  0%|          | 1/10000 [00:00<32:00,  5.21it/s, i_ep=0, i_itr=2, loss=2.28, acc=0.198]"
     ]
    },
    {
     "name": "stdout",
     "output_type": "stream",
     "text": [
      "Selected optimization level O2:  FP16 training with FP32 batchnorm and FP32 master weights.\n",
      "\n",
      "Defaults for this optimization level are:\n",
      "enabled                : True\n",
      "opt_level              : O2\n",
      "cast_model_type        : torch.float16\n",
      "patch_torch_functions  : False\n",
      "keep_batchnorm_fp32    : True\n",
      "master_weights         : True\n",
      "loss_scale             : dynamic\n",
      "Processing user overrides (additional kwargs that are not None)...\n",
      "After processing overrides, optimization options are:\n",
      "enabled                : True\n",
      "opt_level              : O2\n",
      "cast_model_type        : torch.float16\n",
      "patch_torch_functions  : False\n",
      "keep_batchnorm_fp32    : True\n",
      "master_weights         : True\n",
      "loss_scale             : dynamic\n"
     ]
    },
    {
     "name": "stderr",
     "output_type": "stream",
     "text": [
      " 66%|██████▌   | 6554/10000 [01:18<00:39, 86.32it/s, i_ep=13, i_itr=5999, loss=0.0135, acc=0.996, val_loss=0.0814, val_acc=0.98]  "
     ]
    },
    {
     "name": "stdout",
     "output_type": "stream",
     "text": [
      "Gradient overflow.  Skipping step, loss scaler 0 reducing loss scale to 262144.0\n"
     ]
    },
    {
     "name": "stderr",
     "output_type": "stream",
     "text": [
      " 87%|████████▋ | 8680/10000 [01:44<00:14, 88.89it/s, i_ep=18, i_itr=7999, loss=0.0144, acc=0.995, val_loss=0.0922, val_acc=0.98] "
     ]
    },
    {
     "name": "stdout",
     "output_type": "stream",
     "text": [
      "Gradient overflow.  Skipping step, loss scaler 0 reducing loss scale to 262144.0\n"
     ]
    },
    {
     "name": "stderr",
     "output_type": "stream",
     "text": [
      "100%|██████████| 10000/10000 [02:01<00:00, 82.61it/s, i_ep=21, i_itr=9999, loss=0.0016, acc=0.999, val_loss=0.0994, val_acc=0.983]\n"
     ]
    }
   ],
   "source": [
    "from mlkit.trainer.start import *\n",
    "from mlkit.vision.data.mnist import MNIST\n",
    "from mlkit.trainer.apex_trainer import *\n",
    "\n",
    "def net_fn():\n",
    "    return nn.Sequential(\n",
    "        nn.Linear(28 * 28, 300),\n",
    "        nn.ReLU(),\n",
    "        nn.Linear(300, 100),\n",
    "        nn.ReLU(),\n",
    "        nn.Linear(100, 10),\n",
    "    )\n",
    "\n",
    "def opt_fn(net):\n",
    "    return optim.Adam(net.parameters(), lr=1e-3)\n",
    "\n",
    "trainer = apex_trainer_mask(\n",
    "    SimpleTrainer, opt_level='O2'\n",
    ")(net_fn, opt_fn, 'cuda', F.cross_entropy)\n",
    "\n",
    "dataset = MNIST('cuda')\n",
    "df['O2'] = trainer.train(\n",
    "    FlattenLoader(dataset.train_loader(128)),\n",
    "    10_000,\n",
    "    callbacks=trainer.make_default_callbacks() + [\n",
    "        ValidateCb(FlattenLoader(dataset.test_loader(128)), 1000, keys=['loss', 'acc']),\n",
    "    ]\n",
    ")"
   ]
  },
  {
   "cell_type": "code",
   "execution_count": 3,
   "metadata": {},
   "outputs": [
    {
     "name": "stderr",
     "output_type": "stream",
     "text": [
      "  0%|          | 10/10000 [00:00<03:11, 52.29it/s, i_ep=0, i_itr=11, loss=2.07, acc=0.513]"
     ]
    },
    {
     "name": "stdout",
     "output_type": "stream",
     "text": [
      "Selected optimization level O1:  Insert automatic casts around Pytorch functions and Tensor methods.\n",
      "\n",
      "Defaults for this optimization level are:\n",
      "enabled                : True\n",
      "opt_level              : O1\n",
      "cast_model_type        : None\n",
      "patch_torch_functions  : True\n",
      "keep_batchnorm_fp32    : None\n",
      "master_weights         : None\n",
      "loss_scale             : dynamic\n",
      "Processing user overrides (additional kwargs that are not None)...\n",
      "After processing overrides, optimization options are:\n",
      "enabled                : True\n",
      "opt_level              : O1\n",
      "cast_model_type        : None\n",
      "patch_torch_functions  : True\n",
      "keep_batchnorm_fp32    : None\n",
      "master_weights         : None\n",
      "loss_scale             : dynamic\n"
     ]
    },
    {
     "name": "stderr",
     "output_type": "stream",
     "text": [
      " 63%|██████▎   | 6287/10000 [01:34<00:52, 70.41it/s, i_ep=13, i_itr=5999, loss=0.00509, acc=0.998, val_loss=0.0876, val_acc=0.979]"
     ]
    },
    {
     "name": "stdout",
     "output_type": "stream",
     "text": [
      "Gradient overflow.  Skipping step, loss scaler 0 reducing loss scale to 262144.0\n"
     ]
    },
    {
     "name": "stderr",
     "output_type": "stream",
     "text": [
      " 89%|████████▉ | 8881/10000 [02:13<00:15, 70.03it/s, i_ep=18, i_itr=7999, loss=0.00751, acc=0.998, val_loss=0.0928, val_acc=0.98] "
     ]
    },
    {
     "name": "stdout",
     "output_type": "stream",
     "text": [
      "Gradient overflow.  Skipping step, loss scaler 0 reducing loss scale to 262144.0\n"
     ]
    },
    {
     "name": "stderr",
     "output_type": "stream",
     "text": [
      "100%|██████████| 10000/10000 [02:31<00:00, 66.18it/s, i_ep=21, i_itr=9999, loss=0.00497, acc=0.998, val_loss=0.102, val_acc=0.981]\n"
     ]
    }
   ],
   "source": [
    "from mlkit.trainer.start import *\n",
    "from mlkit.vision.data.mnist import MNIST\n",
    "from mlkit.trainer.apex_trainer import *\n",
    "\n",
    "def net_fn():\n",
    "    return nn.Sequential(\n",
    "        nn.Linear(28 * 28, 300),\n",
    "        nn.ReLU(),\n",
    "        nn.Linear(300, 100),\n",
    "        nn.ReLU(),\n",
    "        nn.Linear(100, 10),\n",
    "    )\n",
    "\n",
    "def opt_fn(net):\n",
    "    return optim.Adam(net.parameters(), lr=1e-3)\n",
    "\n",
    "trainer = apex_trainer_mask(\n",
    "    SimpleTrainer, opt_level='O1'\n",
    ")(net_fn, opt_fn, 'cuda', F.cross_entropy)\n",
    "\n",
    "dataset = MNIST('cuda')\n",
    "df['O1'] = trainer.train(\n",
    "    FlattenLoader(dataset.train_loader(128)),\n",
    "    10_000,\n",
    "    callbacks=trainer.make_default_callbacks() + [\n",
    "        ValidateCb(FlattenLoader(dataset.test_loader(128)), 1000, keys=['loss', 'acc']),\n",
    "    ]\n",
    ")"
   ]
  },
  {
   "cell_type": "code",
   "execution_count": 4,
   "metadata": {},
   "outputs": [
    {
     "data": {
      "text/plain": [
       "<matplotlib.axes._subplots.AxesSubplot at 0x7f04305305f8>"
      ]
     },
     "execution_count": 4,
     "metadata": {},
     "output_type": "execute_result"
    },
    {
     "data": {
      "image/png": "[encoded data removed]",
      "text/plain": [
       "<Figure size 432x288 with 1 Axes>"
      ]
     },
     "metadata": {
      "needs_background": "light"
     },
     "output_type": "display_data"
    }
   ],
   "source": [
    "ax = plt.subplot()\n",
    "df['O1'].plot('i_itr', 'loss', ax=ax, label='O1')\n",
    "df['O2'].plot('i_itr', 'loss', ax=ax, label='O2')"
   ]
  },
  {
   "cell_type": "code",
   "execution_count": null,
   "metadata": {},
   "outputs": [],
   "source": []
  }
 ],
 "metadata": {
  "kernelspec": {
   "display_name": "Python [conda env:root] *",
   "language": "python",
   "name": "conda-root-py"
  },
  "language_info": {
   "codemirror_mode": {
    "name": "ipython",
    "version": 3
   },
   "file_extension": ".py",
   "mimetype": "text/x-python",
   "name": "python",
   "nbconvert_exporter": "python",
   "pygments_lexer": "ipython3",
   "version": "3.7.3"
  }
 },
 "nbformat": 4,
 "nbformat_minor": 4
}
